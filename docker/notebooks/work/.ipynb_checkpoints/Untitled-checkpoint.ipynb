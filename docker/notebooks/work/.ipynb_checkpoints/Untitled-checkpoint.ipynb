{
 "cells": [
  {
   "cell_type": "code",
   "execution_count": 1,
   "id": "5286265b-12d2-4cd4-8ced-bd3201515627",
   "metadata": {},
   "outputs": [],
   "source": [
    "from pyspark.sql import SparkSession\n",
    "\n",
    "# spark = SparkSession.builder.appName(\"demo\").master(\"spark://spark-master:7077\").getOrCreate()\n",
    "spark = SparkSession.builder \\\n",
    "            .appName(\"demo\") \\\n",
    "            .master(\"spark://spark-master:7077\") \\\n",
    "            .config(\"spark.sql.catalog.spark_catalog\",\"org.apache.iceberg.spark.SparkSessionCatalog\") \\\n",
    "            .config(\"spark.sql.catalog.spark_catalog.type\",\"hive\") \\\n",
    "            .config(\"spark.sql.catalog.hive_prod\",\"org.apache.iceberg.spark.SparkCatalog\") \\\n",
    "            .config(\"spark.sql.catalog.hive_prod.type\",\"hive\") \\\n",
    "            .config(\"spark.sql.catalog.hive_prod.uri\",\"thrift://hive-metastore:9083\") \\\n",
    "            .config('spark.sql.warehouse.dir', 's3a://lakehouse/') \\\n",
    "            .getOrCreate()"
   ]
  },
  {
   "cell_type": "code",
   "execution_count": 1,
   "id": "2f5988d8-b64c-4756-8bba-fd75db0b6c71",
   "metadata": {},
   "outputs": [],
   "source": [
    "from pyspark.sql import SparkSession\n",
    "\n",
    "# spark = SparkSession.builder.appName(\"demo\").master(\"spark://spark-master:7077\").getOrCreate()\n",
    "spark = SparkSession.builder \\\n",
    "            .appName(\"demo\") \\\n",
    "            .master(\"spark://spark-master:7077\") \\\n",
    "            .config(\"spark.sql.catalog.hive_prod\",\"org.apache.iceberg.spark.SparkCatalog\") \\\n",
    "            .config(\"spark.sql.catalog.hive_prod.type\",\"hive\") \\\n",
    "            .config(\"spark.sql.catalog.hive_prod.uri\",\"thrift://hive-metastore:9083\") \\\n",
    "            .config('spark.sql.warehouse.dir', 's3a://lakehouse/') \\\n",
    "            .enableHiveSupport() \\\n",
    "            .getOrCreate()"
   ]
  },
  {
   "cell_type": "code",
   "execution_count": 1,
   "id": "e2f1c412-388b-4a3d-aa29-5a0576e68190",
   "metadata": {},
   "outputs": [
    {
     "ename": "NameError",
     "evalue": "name 'spark' is not defined",
     "output_type": "error",
     "traceback": [
      "\u001b[1;31m---------------------------------------------------------------------------\u001b[0m",
      "\u001b[1;31mNameError\u001b[0m                                 Traceback (most recent call last)",
      "\u001b[1;32md:\\Nam_4\\HK1\\TLCN\\Project\\docker\\notebooks\\work\\Untitled.ipynb Cell 2\u001b[0m line \u001b[0;36m1\n\u001b[1;32m----> <a href='vscode-notebook-cell:/d%3A/Nam_4/HK1/TLCN/Project/docker/notebooks/work/Untitled.ipynb#W1sZmlsZQ%3D%3D?line=0'>1</a>\u001b[0m spark\u001b[39m.\u001b[39mstop()\n",
      "\u001b[1;31mNameError\u001b[0m: name 'spark' is not defined"
     ]
    }
   ],
   "source": [
    "spark.stop()"
   ]
  },
  {
   "cell_type": "code",
   "execution_count": 5,
   "id": "f464cd1f-a21f-4326-ba1a-8a5ebf06e91d",
   "metadata": {},
   "outputs": [
    {
     "name": "stdout",
     "output_type": "stream",
     "text": [
      "+----------+--------------------+------+------------------+------------+\n",
      "|    Symbol|         CompanyName|Series|          Industry|   ISIN_Code|\n",
      "+----------+--------------------+------+------------------+------------+\n",
      "|ADANIPORTS|Adani Ports and S...|    EQ|          SERVICES|INE742F01042|\n",
      "|ASIANPAINT|   Asian Paints Ltd.|    EQ|    CONSUMER GOODS|INE021A01026|\n",
      "|  AXISBANK|      Axis Bank Ltd.|    EQ|FINANCIAL SERVICES|INE238A01034|\n",
      "|BAJAJ-AUTO|     Bajaj Auto Ltd.|    EQ|        AUTOMOBILE|INE917I01010|\n",
      "|BAJAJFINSV|  Bajaj Finserv Ltd.|    EQ|FINANCIAL SERVICES|INE918I01018|\n",
      "|BAJFINANCE|  Bajaj Finance Ltd.|    EQ|FINANCIAL SERVICES|INE296A01024|\n",
      "|BHARTIARTL|  Bharti Airtel Ltd.|    EQ|           TELECOM|INE397D01024|\n",
      "|      BPCL|Bharat Petroleum ...|    EQ|            ENERGY|INE029A01011|\n",
      "| BRITANNIA|Britannia Industr...|    EQ|    CONSUMER GOODS|INE216A01030|\n",
      "|     CIPLA|          Cipla Ltd.|    EQ|            PHARMA|INE059A01026|\n",
      "+----------+--------------------+------+------------------+------------+\n",
      "only showing top 10 rows\n",
      "\n"
     ]
    }
   ],
   "source": [
    "df = spark.read.format(\"parquet\").load(\"s3a://lakehouse/bronze/stock/stocks.parquet\")\n",
    "df.show(10)\n",
    "# type(df)"
   ]
  },
  {
   "cell_type": "code",
   "execution_count": 40,
   "id": "d91cb5ca-33bd-4598-98d0-f1118e217438",
   "metadata": {},
   "outputs": [
    {
     "name": "stdout",
     "output_type": "stream",
     "text": [
      "+---------+---------+-----------+\n",
      "|namespace|tableName|isTemporary|\n",
      "+---------+---------+-----------+\n",
      "|      db1|  stock2s|      false|\n",
      "+---------+---------+-----------+\n",
      "\n"
     ]
    }
   ],
   "source": [
    "# spark.sql(f\"CREATE SCHEMA IF NOT EXISTS hive_prod.silver\")\n",
    "spark.sql(\"CREATE DATABASE IF NOT EXISTS hive_prod.db1\")\n",
    "spark.sql(\"CREATE TABLE IF NOT EXISTS hive_prod.db1.stock2s (Symbol string, CompanyName string, Series string, Industry string, ISIN_Code string) USING iceberg\")\n",
    "# spark.sql(f\"CREATE TABLE IF NOT EXISTS hive_prod.silver.stocks (Symbol string, CompanyName string, Series string, Industry string, ISIN_Code string) USING iceberg\")\n",
    "# spark.sql(\"CREATE TABLE IF NOT EXISTS hive_prod.silver.stock2s (Symbol string, CompanyName string, Series string, Industry string, ISIN_Code string) USING iceberg\")\n",
    "# spark.sql(f\"CREATE TABLE IF NOT EXISTS hive_prod.silver.stocksss (Symbol varchar(100), CompanyName varchar(100), Series varchar(100), Industry varchar(100), ISIN_Code varchar(100)) USING iceberg\")\n",
    "spark.sql(\"SHOW TABLES FROM hive_prod.db1\").show()\n",
    "# spark.sql(\"SHOW DATABASES FROM hive_prod\").show()\n",
    "# spark.sql(\"SHOW catalogs\").show()"
   ]
  },
  {
   "cell_type": "code",
   "execution_count": 41,
   "id": "81a15033-6f12-46a9-b42c-5a3dd615ed62",
   "metadata": {},
   "outputs": [],
   "source": [
    "# df.write.format(\"iceberg\").mode(\"overwrite\").saveAsTable(\"iceberg.db.a\")\n",
    "df.createOrReplaceTempView(\"stock2s\")"
   ]
  },
  {
   "cell_type": "code",
   "execution_count": 42,
   "id": "f88de66a-a140-4769-b615-1d80580d20f1",
   "metadata": {},
   "outputs": [],
   "source": [
    "df.writeTo(\"hive_prod.db1.stock2s\").append()"
   ]
  },
  {
   "cell_type": "code",
   "execution_count": null,
   "id": "b67c1bc9-c765-4252-92eb-c23979895e39",
   "metadata": {},
   "outputs": [],
   "source": [
    "spark.stop()"
   ]
  },
  {
   "cell_type": "code",
   "execution_count": null,
   "id": "fc7a63ac-d576-48bd-b379-d955dea8b569",
   "metadata": {},
   "outputs": [],
   "source": [
    "data = spark.read.format(\"iceberg\").load(\"hive_prod.gold.restaurant\")\n",
    "data.show(5)"
   ]
  },
  {
   "cell_type": "code",
   "execution_count": null,
   "id": "c258901c-bdc6-482c-9cc3-49cfa66ac9b0",
   "metadata": {},
   "outputs": [],
   "source": [
    "data.write.format(\"iceberg\").mode(\"overwrite\").saveAsTable(\"iceberg.data\")"
   ]
  },
  {
   "cell_type": "code",
   "execution_count": null,
   "id": "f76b72b7",
   "metadata": {},
   "outputs": [],
   "source": [
    "spark.stop()"
   ]
  },
  {
   "cell_type": "code",
   "execution_count": null,
   "id": "e6ecb705-47cf-42c3-b221-4c75eefbbede",
   "metadata": {},
   "outputs": [],
   "source": [
    "spark.sql(\"CREATE DATABASE IF NOT EXISTS hive_prod.db\")"
   ]
  },
  {
   "cell_type": "code",
   "execution_count": null,
   "id": "978d1ae0-e0aa-4177-ac1f-185d058d852d",
   "metadata": {},
   "outputs": [],
   "source": [
    "spark.sql(\"CREATE TABLE IF NOT EXISTS hive_prod.db.stock (Symbol string, CompanyName string, Series string, Industry string, ISIN_Code string) USING iceberg\")"
   ]
  },
  {
   "cell_type": "code",
   "execution_count": null,
   "id": "a162888b-34bf-42e5-bc0e-c7dc98ca4eac",
   "metadata": {},
   "outputs": [],
   "source": [
    "# player.writeTo(\"hive_prod.db.stock\").append()\n",
    "player.writeTo(\"hive_prod.db.sal\").using(\"iceberg\").create()"
   ]
  },
  {
   "cell_type": "code",
   "execution_count": null,
   "id": "80d65584-c16c-4a66-9fc6-12227d9b1cb7",
   "metadata": {},
   "outputs": [],
   "source": [
    "icebergdf = spark.read.format(\"iceberg\").load(\"hive_prod.db.sal\")\n",
    "icebergdf.show(10)"
   ]
  },
  {
   "cell_type": "code",
   "execution_count": null,
   "id": "64578b6f-76be-4281-be19-b2f0c600af6f",
   "metadata": {},
   "outputs": [],
   "source": [
    "player = spark.read \\\n",
    "    .format(\"parquet\") \\\n",
    "    .load(\"s3a://lakehouse/bronze/stock/stocks.parquet\")\n",
    "\n",
    "player.show()"
   ]
  },
  {
   "cell_type": "code",
   "execution_count": null,
   "id": "708065ba-6d06-4d07-b791-c28c44335517",
   "metadata": {},
   "outputs": [],
   "source": [
    "player.createOrReplaceTempView(\"player\")"
   ]
  },
  {
   "cell_type": "code",
   "execution_count": null,
   "id": "915da182-d240-4bd9-8eee-41e4b7ee7583",
   "metadata": {},
   "outputs": [],
   "source": [
    "sqlContext = SparkSession(spark)"
   ]
  },
  {
   "cell_type": "code",
   "execution_count": null,
   "id": "1cc2b927-f900-4ad0-aea9-ba488210633a",
   "metadata": {},
   "outputs": [],
   "source": [
    "t = sqlContext.sql(\"SELECT * FROM player\")"
   ]
  },
  {
   "cell_type": "code",
   "execution_count": null,
   "id": "a14a83ea-67a7-45ae-9416-40c4f1e706a3",
   "metadata": {},
   "outputs": [],
   "source": [
    "t.show()"
   ]
  },
  {
   "cell_type": "code",
   "execution_count": null,
   "id": "1f8f660c-64bf-4ad2-bc90-a286c7fc0c13",
   "metadata": {},
   "outputs": [],
   "source": [
    "t.write.format(\"iceberg\").save()"
   ]
  },
  {
   "cell_type": "code",
   "execution_count": null,
   "id": "3ecafbb9-613a-4818-9365-a750d64372df",
   "metadata": {},
   "outputs": [],
   "source": [
    "t = spark.read \\\n",
    "    .format(\"csv\") \\\n",
    "    .option(\"header\", \"true\") \\\n",
    "    .load(\"s3a://test/ADANIPORTS.csv\")\n",
    "\n",
    "t.show()"
   ]
  },
  {
   "cell_type": "code",
   "execution_count": null,
   "id": "fdf2b8c2-f4fa-4ae6-8c2c-2d06b3e919c6",
   "metadata": {},
   "outputs": [],
   "source": [
    "spark.stop()"
   ]
  },
  {
   "cell_type": "code",
   "execution_count": null,
   "id": "70b1ff07-7f87-404f-922a-381bc7ba5995",
   "metadata": {},
   "outputs": [],
   "source": [
    "file:///usr/local/spark-3.3.2-bin-hadoop3/jars/hadoop-aws-3.3.2.jar,file:///usr/local/spark-3.3.2-bin-hadoop3/jars/hadoop-common-3.3.2.jar,file:///usr/local/spark-3.3.2-bin-hadoop3/jars/aws-java-sdk-1.12.367.jar,file:///usr/local/spark-3.3.2-bin-hadoop3/jars/s3-2.18.41.jar,file:///usr/local/spark-3.3.2-bin-hadoop3/jars/aws-java-sdk-bundle-1.11.1026.jar"
   ]
  },
  {
   "cell_type": "code",
   "execution_count": null,
   "id": "43e5b848-a61b-41bc-bf34-9e223b3a61c5",
   "metadata": {},
   "outputs": [],
   "source": [
    "spark"
   ]
  },
  {
   "cell_type": "code",
   "execution_count": 33,
   "id": "b8ebef14-48dc-44e7-afde-3a582aa79119",
   "metadata": {},
   "outputs": [
    {
     "name": "stdout",
     "output_type": "stream",
     "text": [
      "[('ADANIPORTS', 'Adani Ports and Special Economic Zone Ltd.', 'EQ', 'SERVICES', 'INE742F01042'), ('ASIANPAINT', 'Asian Paints Ltd.', 'EQ', 'CONSUMER GOODS', 'INE021A01026'), ('AXISBANK', 'Axis Bank Ltd.', 'EQ', 'FINANCIAL SERVICES', 'INE238A01034'), ('BPCL', 'Bharat Petroleum Corporation Ltd.', 'EQ', 'ENERGY', 'INE029A01011'), ('BRITANNIA', 'Britannia Industries Ltd.', 'EQ', 'CONSUMER GOODS', 'INE216A01030'), ('CIPLA', 'Cipla Ltd.', 'EQ', 'PHARMA', 'INE059A01026'), ('COALINDIA', 'Coal India Ltd.', 'EQ', 'METALS', 'INE522F01014'), ('DRREDDY', \"Dr. Reddy's Laboratories Ltd.\", 'EQ', 'PHARMA', 'INE089A01023'), ('EICHERMOT', 'Eicher Motors Ltd.', 'EQ', 'AUTOMOBILE', 'INE066A01013'), ('GAIL', 'GAIL (India) Ltd.', 'EQ', 'ENERGY', 'INE129A01019'), ('GRASIM', 'Grasim Industries Ltd.', 'EQ', 'CEMENT & CEMENT PRODUCTS', 'INE047A01021'), ('BAJAJ-AUTO', 'Bajaj Auto Ltd.', 'EQ', 'AUTOMOBILE', 'INE917I01010'), ('BAJAJFINSV', 'Bajaj Finserv Ltd.', 'EQ', 'FINANCIAL SERVICES', 'INE918I01018'), ('BAJFINANCE', 'Bajaj Finance Ltd.', 'EQ', 'FINANCIAL SERVICES', 'INE296A01024'), ('BHARTIARTL', 'Bharti Airtel Ltd.', 'EQ', 'TELECOM', 'INE397D01024'), ('HCLTECH', 'HCL Technologies Ltd.', 'EQ', 'IT', 'INE860A01027'), ('HDFC', 'Housing Development Finance Corporation Ltd.', 'EQ', 'FINANCIAL SERVICES', 'INE001A01036'), ('HDFCBANK', 'HDFC Bank Ltd.', 'EQ', 'FINANCIAL SERVICES', 'INE040A01034'), ('HEROMOTOCO', 'Hero MotoCorp Ltd.', 'EQ', 'AUTOMOBILE', 'INE158A01026'), ('HINDALCO', 'Hindalco Industries Ltd.', 'EQ', 'METALS', 'INE038A01020'), ('HINDUNILVR', 'Hindustan Unilever Ltd.', 'EQ', 'CONSUMER GOODS', 'INE030A01027'), ('ICICIBANK', 'ICICI Bank Ltd.', 'EQ', 'FINANCIAL SERVICES', 'INE090A01021'), ('INDUSINDBK', 'IndusInd Bank Ltd.', 'EQ', 'FINANCIAL SERVICES', 'INE095A01012'), ('INFY', 'Infosys Ltd.', 'EQ', 'IT', 'INE009A01021'), ('IOC', 'Indian Oil Corporation Ltd.', 'EQ', 'ENERGY', 'INE242A01010'), ('ITC', 'ITC Ltd.', 'EQ', 'CONSUMER GOODS', 'INE154A01025'), ('JSWSTEEL', 'JSW Steel Ltd.', 'EQ', 'METALS', 'INE019A01038'), ('KOTAKBANK', 'Kotak Mahindra Bank Ltd.', 'EQ', 'FINANCIAL SERVICES', 'INE237A01028'), ('LT', 'Larsen & Toubro Ltd.', 'EQ', 'CONSTRUCTION', 'INE018A01030'), ('M&M', 'Mahindra & Mahindra Ltd.', 'EQ', 'AUTOMOBILE', 'INE101A01026'), ('MARUTI', 'Maruti Suzuki India Ltd.', 'EQ', 'AUTOMOBILE', 'INE585B01010'), ('NESTLEIND', 'Nestle India Ltd.', 'EQ', 'CONSUMER GOODS', 'INE239A01016'), ('NTPC', 'NTPC Ltd.', 'EQ', 'ENERGY', 'INE733E01010'), ('ONGC', 'Oil & Natural Gas Corporation Ltd.', 'EQ', 'ENERGY', 'INE213A01029'), ('POWERGRID', 'Power Grid Corporation of India Ltd.', 'EQ', 'ENERGY', 'INE752E01010'), ('RELIANCE', 'Reliance Industries Ltd.', 'EQ', 'ENERGY', 'INE002A01018'), ('SBIN', 'State Bank of India', 'EQ', 'FINANCIAL SERVICES', 'INE062A01020'), ('SHREECEM', 'Shree Cement Ltd.', 'EQ', 'CEMENT & CEMENT PRODUCTS', 'INE070A01015'), ('SUNPHARMA', 'Sun Pharmaceutical Industries Ltd.', 'EQ', 'PHARMA', 'INE044A01036'), ('TATAMOTORS', 'Tata Motors Ltd.', 'EQ', 'AUTOMOBILE', 'INE155A01022'), ('TATASTEEL', 'Tata Steel Ltd.', 'EQ', 'METALS', 'INE081A01012'), ('TCS', 'Tata Consultancy Services Ltd.', 'EQ', 'IT', 'INE467B01029'), ('TECHM', 'Tech Mahindra Ltd.', 'EQ', 'IT', 'INE669C01036'), ('TITAN', 'Titan Company Ltd.', 'EQ', 'CONSUMER GOODS', 'INE280A01028'), ('ULTRACEMCO', 'UltraTech Cement Ltd.', 'EQ', 'CEMENT & CEMENT PRODUCTS', 'INE481G01011'), ('UPL', 'UPL Ltd.', 'EQ', 'FERTILISERS & PESTICIDES', 'INE628A01036'), ('VEDL', 'Vedanta Ltd.', 'EQ', 'METALS', 'INE205A01025'), ('WIPRO', 'Wipro Ltd.', 'EQ', 'IT', 'INE075A01022'), ('ZEEL', 'Zee Entertainment Enterprises Ltd.', 'EQ', 'MEDIA & ENTERTAINMENT', 'INE256A01028')]\n"
     ]
    }
   ],
   "source": [
    "from sqlalchemy import create_engine\n",
    "from sqlalchemy.sql.expression import select, text\n",
    "\n",
    "engine = create_engine('trino://trino@192.168.59.1:8085/iceberg')\n",
    "connection = engine.connect()\n",
    "\n",
    "rows = connection.execute(text(\"SELECT * FROM db.a\")).fetchall()\n",
    "print(rows)"
   ]
  },
  {
   "cell_type": "code",
   "execution_count": 28,
   "id": "f35bf76f-ed23-44f6-aa8f-d88662aa1ded",
   "metadata": {},
   "outputs": [
    {
     "data": {
      "text/plain": [
       "<sqlalchemy.engine.cursor.LegacyCursorResult at 0x7fa5fc802eb0>"
      ]
     },
     "execution_count": 28,
     "metadata": {},
     "output_type": "execute_result"
    }
   ],
   "source": [
    "connection.execute(text(\"CREATE SCHEMA IF NOT EXISTS iceberg.db with (location = 's3a://lakehouse/')\"))"
   ]
  },
  {
   "cell_type": "code",
   "execution_count": 34,
   "id": "17caf4b5-6aa3-47b5-9413-b6c47153e4e1",
   "metadata": {},
   "outputs": [
    {
     "ename": "ProgrammingError",
     "evalue": "(trino.exceptions.TrinoUserError) TrinoUserError(type=USER_ERROR, name=SYNTAX_ERROR, message=\"line 1:132: mismatched input 'USING'. Expecting: 'COMMENT', 'WITH', <EOF>\", query_id=20231102_175215_00163_gh2b3)\n[SQL: CREATE TABLE IF NOT EXISTS iceberg.db.b (Symbol varchar, CompanyName varchar, Series varchar, Industry varchar, ISIN_Code varchar) USING iceberg]\n(Background on this error at: https://sqlalche.me/e/14/f405)",
     "output_type": "error",
     "traceback": [
      "\u001b[0;31m---------------------------------------------------------------------------\u001b[0m",
      "\u001b[0;31mTrinoUserError\u001b[0m                            Traceback (most recent call last)",
      "File \u001b[0;32m/opt/conda/lib/python3.9/site-packages/sqlalchemy/engine/base.py:1900\u001b[0m, in \u001b[0;36mConnection._execute_context\u001b[0;34m(self, dialect, constructor, statement, parameters, execution_options, *args, **kw)\u001b[0m\n\u001b[1;32m   1899\u001b[0m     \u001b[38;5;28;01mif\u001b[39;00m \u001b[38;5;129;01mnot\u001b[39;00m evt_handled:\n\u001b[0;32m-> 1900\u001b[0m         \u001b[38;5;28;43mself\u001b[39;49m\u001b[38;5;241;43m.\u001b[39;49m\u001b[43mdialect\u001b[49m\u001b[38;5;241;43m.\u001b[39;49m\u001b[43mdo_execute\u001b[49m\u001b[43m(\u001b[49m\n\u001b[1;32m   1901\u001b[0m \u001b[43m            \u001b[49m\u001b[43mcursor\u001b[49m\u001b[43m,\u001b[49m\u001b[43m \u001b[49m\u001b[43mstatement\u001b[49m\u001b[43m,\u001b[49m\u001b[43m \u001b[49m\u001b[43mparameters\u001b[49m\u001b[43m,\u001b[49m\u001b[43m \u001b[49m\u001b[43mcontext\u001b[49m\n\u001b[1;32m   1902\u001b[0m \u001b[43m        \u001b[49m\u001b[43m)\u001b[49m\n\u001b[1;32m   1904\u001b[0m \u001b[38;5;28;01mif\u001b[39;00m \u001b[38;5;28mself\u001b[39m\u001b[38;5;241m.\u001b[39m_has_events \u001b[38;5;129;01mor\u001b[39;00m \u001b[38;5;28mself\u001b[39m\u001b[38;5;241m.\u001b[39mengine\u001b[38;5;241m.\u001b[39m_has_events:\n",
      "File \u001b[0;32m/opt/conda/lib/python3.9/site-packages/trino/sqlalchemy/dialect.py:399\u001b[0m, in \u001b[0;36mTrinoDialect.do_execute\u001b[0;34m(self, cursor, statement, parameters, context)\u001b[0m\n\u001b[1;32m    396\u001b[0m \u001b[38;5;28;01mdef\u001b[39;00m \u001b[38;5;21mdo_execute\u001b[39m(\n\u001b[1;32m    397\u001b[0m     \u001b[38;5;28mself\u001b[39m, cursor: Cursor, statement: \u001b[38;5;28mstr\u001b[39m, parameters: Tuple[Any, \u001b[38;5;241m.\u001b[39m\u001b[38;5;241m.\u001b[39m\u001b[38;5;241m.\u001b[39m], context: DefaultExecutionContext \u001b[38;5;241m=\u001b[39m \u001b[38;5;28;01mNone\u001b[39;00m\n\u001b[1;32m    398\u001b[0m ):\n\u001b[0;32m--> 399\u001b[0m     \u001b[43mcursor\u001b[49m\u001b[38;5;241;43m.\u001b[39;49m\u001b[43mexecute\u001b[49m\u001b[43m(\u001b[49m\u001b[43mstatement\u001b[49m\u001b[43m,\u001b[49m\u001b[43m \u001b[49m\u001b[43mparameters\u001b[49m\u001b[43m)\u001b[49m\n",
      "File \u001b[0;32m/opt/conda/lib/python3.9/site-packages/trino/dbapi.py:592\u001b[0m, in \u001b[0;36mCursor.execute\u001b[0;34m(self, operation, params)\u001b[0m\n\u001b[1;32m    590\u001b[0m     \u001b[38;5;28mself\u001b[39m\u001b[38;5;241m.\u001b[39m_query \u001b[38;5;241m=\u001b[39m trino\u001b[38;5;241m.\u001b[39mclient\u001b[38;5;241m.\u001b[39mTrinoQuery(\u001b[38;5;28mself\u001b[39m\u001b[38;5;241m.\u001b[39m_request, query\u001b[38;5;241m=\u001b[39moperation,\n\u001b[1;32m    591\u001b[0m                                           legacy_primitive_types\u001b[38;5;241m=\u001b[39m\u001b[38;5;28mself\u001b[39m\u001b[38;5;241m.\u001b[39m_legacy_primitive_types)\n\u001b[0;32m--> 592\u001b[0m     \u001b[38;5;28mself\u001b[39m\u001b[38;5;241m.\u001b[39m_iterator \u001b[38;5;241m=\u001b[39m \u001b[38;5;28miter\u001b[39m(\u001b[38;5;28;43mself\u001b[39;49m\u001b[38;5;241;43m.\u001b[39;49m\u001b[43m_query\u001b[49m\u001b[38;5;241;43m.\u001b[39;49m\u001b[43mexecute\u001b[49m\u001b[43m(\u001b[49m\u001b[43m)\u001b[49m)\n\u001b[1;32m    593\u001b[0m \u001b[38;5;28;01mreturn\u001b[39;00m \u001b[38;5;28mself\u001b[39m\n",
      "File \u001b[0;32m/opt/conda/lib/python3.9/site-packages/trino/client.py:810\u001b[0m, in \u001b[0;36mTrinoQuery.execute\u001b[0;34m(self, additional_http_headers)\u001b[0m\n\u001b[1;32m    809\u001b[0m \u001b[38;5;28;01mwhile\u001b[39;00m \u001b[38;5;129;01mnot\u001b[39;00m \u001b[38;5;28mself\u001b[39m\u001b[38;5;241m.\u001b[39mfinished \u001b[38;5;129;01mand\u001b[39;00m \u001b[38;5;129;01mnot\u001b[39;00m \u001b[38;5;28mself\u001b[39m\u001b[38;5;241m.\u001b[39mcancelled \u001b[38;5;129;01mand\u001b[39;00m \u001b[38;5;28mlen\u001b[39m(\u001b[38;5;28mself\u001b[39m\u001b[38;5;241m.\u001b[39m_result\u001b[38;5;241m.\u001b[39mrows) \u001b[38;5;241m==\u001b[39m \u001b[38;5;241m0\u001b[39m:\n\u001b[0;32m--> 810\u001b[0m     \u001b[38;5;28mself\u001b[39m\u001b[38;5;241m.\u001b[39m_result\u001b[38;5;241m.\u001b[39mrows \u001b[38;5;241m+\u001b[39m\u001b[38;5;241m=\u001b[39m \u001b[38;5;28;43mself\u001b[39;49m\u001b[38;5;241;43m.\u001b[39;49m\u001b[43mfetch\u001b[49m\u001b[43m(\u001b[49m\u001b[43m)\u001b[49m\n\u001b[1;32m    811\u001b[0m \u001b[38;5;28;01mreturn\u001b[39;00m \u001b[38;5;28mself\u001b[39m\u001b[38;5;241m.\u001b[39m_result\n",
      "File \u001b[0;32m/opt/conda/lib/python3.9/site-packages/trino/client.py:830\u001b[0m, in \u001b[0;36mTrinoQuery.fetch\u001b[0;34m(self)\u001b[0m\n\u001b[1;32m    829\u001b[0m     \u001b[38;5;28;01mraise\u001b[39;00m trino\u001b[38;5;241m.\u001b[39mexceptions\u001b[38;5;241m.\u001b[39mTrinoConnectionError(\u001b[38;5;124m\"\u001b[39m\u001b[38;5;124mfailed to fetch: \u001b[39m\u001b[38;5;132;01m{}\u001b[39;00m\u001b[38;5;124m\"\u001b[39m\u001b[38;5;241m.\u001b[39mformat(e))\n\u001b[0;32m--> 830\u001b[0m status \u001b[38;5;241m=\u001b[39m \u001b[38;5;28;43mself\u001b[39;49m\u001b[38;5;241;43m.\u001b[39;49m\u001b[43m_request\u001b[49m\u001b[38;5;241;43m.\u001b[39;49m\u001b[43mprocess\u001b[49m\u001b[43m(\u001b[49m\u001b[43mresponse\u001b[49m\u001b[43m)\u001b[49m\n\u001b[1;32m    831\u001b[0m \u001b[38;5;28mself\u001b[39m\u001b[38;5;241m.\u001b[39m_update_state(status)\n",
      "File \u001b[0;32m/opt/conda/lib/python3.9/site-packages/trino/client.py:609\u001b[0m, in \u001b[0;36mTrinoRequest.process\u001b[0;34m(self, http_response)\u001b[0m\n\u001b[1;32m    608\u001b[0m \u001b[38;5;28;01mif\u001b[39;00m \u001b[38;5;124m\"\u001b[39m\u001b[38;5;124merror\u001b[39m\u001b[38;5;124m\"\u001b[39m \u001b[38;5;129;01min\u001b[39;00m response:\n\u001b[0;32m--> 609\u001b[0m     \u001b[38;5;28;01mraise\u001b[39;00m \u001b[38;5;28mself\u001b[39m\u001b[38;5;241m.\u001b[39m_process_error(response[\u001b[38;5;124m\"\u001b[39m\u001b[38;5;124merror\u001b[39m\u001b[38;5;124m\"\u001b[39m], response\u001b[38;5;241m.\u001b[39mget(\u001b[38;5;124m\"\u001b[39m\u001b[38;5;124mid\u001b[39m\u001b[38;5;124m\"\u001b[39m))\n\u001b[1;32m    611\u001b[0m \u001b[38;5;28;01mif\u001b[39;00m constants\u001b[38;5;241m.\u001b[39mHEADER_CLEAR_SESSION \u001b[38;5;129;01min\u001b[39;00m http_response\u001b[38;5;241m.\u001b[39mheaders:\n",
      "\u001b[0;31mTrinoUserError\u001b[0m: TrinoUserError(type=USER_ERROR, name=SYNTAX_ERROR, message=\"line 1:132: mismatched input 'USING'. Expecting: 'COMMENT', 'WITH', <EOF>\", query_id=20231102_175215_00163_gh2b3)",
      "\nThe above exception was the direct cause of the following exception:\n",
      "\u001b[0;31mProgrammingError\u001b[0m                          Traceback (most recent call last)",
      "Cell \u001b[0;32mIn [34], line 1\u001b[0m\n\u001b[0;32m----> 1\u001b[0m \u001b[43mconnection\u001b[49m\u001b[38;5;241;43m.\u001b[39;49m\u001b[43mexecute\u001b[49m\u001b[43m(\u001b[49m\u001b[43mtext\u001b[49m\u001b[43m(\u001b[49m\u001b[38;5;124;43m\"\u001b[39;49m\u001b[38;5;124;43mCREATE TABLE IF NOT EXISTS iceberg.db.b (Symbol varchar, CompanyName varchar, Series varchar, Industry varchar, ISIN_Code varchar) USING iceberg\u001b[39;49m\u001b[38;5;124;43m\"\u001b[39;49m\u001b[43m)\u001b[49m\u001b[43m)\u001b[49m\n",
      "File \u001b[0;32m/opt/conda/lib/python3.9/site-packages/sqlalchemy/engine/base.py:1380\u001b[0m, in \u001b[0;36mConnection.execute\u001b[0;34m(self, statement, *multiparams, **params)\u001b[0m\n\u001b[1;32m   1376\u001b[0m     util\u001b[38;5;241m.\u001b[39mraise_(\n\u001b[1;32m   1377\u001b[0m         exc\u001b[38;5;241m.\u001b[39mObjectNotExecutableError(statement), replace_context\u001b[38;5;241m=\u001b[39merr\n\u001b[1;32m   1378\u001b[0m     )\n\u001b[1;32m   1379\u001b[0m \u001b[38;5;28;01melse\u001b[39;00m:\n\u001b[0;32m-> 1380\u001b[0m     \u001b[38;5;28;01mreturn\u001b[39;00m \u001b[43mmeth\u001b[49m\u001b[43m(\u001b[49m\u001b[38;5;28;43mself\u001b[39;49m\u001b[43m,\u001b[49m\u001b[43m \u001b[49m\u001b[43mmultiparams\u001b[49m\u001b[43m,\u001b[49m\u001b[43m \u001b[49m\u001b[43mparams\u001b[49m\u001b[43m,\u001b[49m\u001b[43m \u001b[49m\u001b[43m_EMPTY_EXECUTION_OPTS\u001b[49m\u001b[43m)\u001b[49m\n",
      "File \u001b[0;32m/opt/conda/lib/python3.9/site-packages/sqlalchemy/sql/elements.py:333\u001b[0m, in \u001b[0;36mClauseElement._execute_on_connection\u001b[0;34m(self, connection, multiparams, params, execution_options, _force)\u001b[0m\n\u001b[1;32m    329\u001b[0m \u001b[38;5;28;01mdef\u001b[39;00m \u001b[38;5;21m_execute_on_connection\u001b[39m(\n\u001b[1;32m    330\u001b[0m     \u001b[38;5;28mself\u001b[39m, connection, multiparams, params, execution_options, _force\u001b[38;5;241m=\u001b[39m\u001b[38;5;28;01mFalse\u001b[39;00m\n\u001b[1;32m    331\u001b[0m ):\n\u001b[1;32m    332\u001b[0m     \u001b[38;5;28;01mif\u001b[39;00m _force \u001b[38;5;129;01mor\u001b[39;00m \u001b[38;5;28mself\u001b[39m\u001b[38;5;241m.\u001b[39msupports_execution:\n\u001b[0;32m--> 333\u001b[0m         \u001b[38;5;28;01mreturn\u001b[39;00m \u001b[43mconnection\u001b[49m\u001b[38;5;241;43m.\u001b[39;49m\u001b[43m_execute_clauseelement\u001b[49m\u001b[43m(\u001b[49m\n\u001b[1;32m    334\u001b[0m \u001b[43m            \u001b[49m\u001b[38;5;28;43mself\u001b[39;49m\u001b[43m,\u001b[49m\u001b[43m \u001b[49m\u001b[43mmultiparams\u001b[49m\u001b[43m,\u001b[49m\u001b[43m \u001b[49m\u001b[43mparams\u001b[49m\u001b[43m,\u001b[49m\u001b[43m \u001b[49m\u001b[43mexecution_options\u001b[49m\n\u001b[1;32m    335\u001b[0m \u001b[43m        \u001b[49m\u001b[43m)\u001b[49m\n\u001b[1;32m    336\u001b[0m     \u001b[38;5;28;01melse\u001b[39;00m:\n\u001b[1;32m    337\u001b[0m         \u001b[38;5;28;01mraise\u001b[39;00m exc\u001b[38;5;241m.\u001b[39mObjectNotExecutableError(\u001b[38;5;28mself\u001b[39m)\n",
      "File \u001b[0;32m/opt/conda/lib/python3.9/site-packages/sqlalchemy/engine/base.py:1572\u001b[0m, in \u001b[0;36mConnection._execute_clauseelement\u001b[0;34m(self, elem, multiparams, params, execution_options)\u001b[0m\n\u001b[1;32m   1560\u001b[0m compiled_cache \u001b[38;5;241m=\u001b[39m execution_options\u001b[38;5;241m.\u001b[39mget(\n\u001b[1;32m   1561\u001b[0m     \u001b[38;5;124m\"\u001b[39m\u001b[38;5;124mcompiled_cache\u001b[39m\u001b[38;5;124m\"\u001b[39m, \u001b[38;5;28mself\u001b[39m\u001b[38;5;241m.\u001b[39mengine\u001b[38;5;241m.\u001b[39m_compiled_cache\n\u001b[1;32m   1562\u001b[0m )\n\u001b[1;32m   1564\u001b[0m compiled_sql, extracted_params, cache_hit \u001b[38;5;241m=\u001b[39m elem\u001b[38;5;241m.\u001b[39m_compile_w_cache(\n\u001b[1;32m   1565\u001b[0m     dialect\u001b[38;5;241m=\u001b[39mdialect,\n\u001b[1;32m   1566\u001b[0m     compiled_cache\u001b[38;5;241m=\u001b[39mcompiled_cache,\n\u001b[0;32m   (...)\u001b[0m\n\u001b[1;32m   1570\u001b[0m     linting\u001b[38;5;241m=\u001b[39m\u001b[38;5;28mself\u001b[39m\u001b[38;5;241m.\u001b[39mdialect\u001b[38;5;241m.\u001b[39mcompiler_linting \u001b[38;5;241m|\u001b[39m compiler\u001b[38;5;241m.\u001b[39mWARN_LINTING,\n\u001b[1;32m   1571\u001b[0m )\n\u001b[0;32m-> 1572\u001b[0m ret \u001b[38;5;241m=\u001b[39m \u001b[38;5;28;43mself\u001b[39;49m\u001b[38;5;241;43m.\u001b[39;49m\u001b[43m_execute_context\u001b[49m\u001b[43m(\u001b[49m\n\u001b[1;32m   1573\u001b[0m \u001b[43m    \u001b[49m\u001b[43mdialect\u001b[49m\u001b[43m,\u001b[49m\n\u001b[1;32m   1574\u001b[0m \u001b[43m    \u001b[49m\u001b[43mdialect\u001b[49m\u001b[38;5;241;43m.\u001b[39;49m\u001b[43mexecution_ctx_cls\u001b[49m\u001b[38;5;241;43m.\u001b[39;49m\u001b[43m_init_compiled\u001b[49m\u001b[43m,\u001b[49m\n\u001b[1;32m   1575\u001b[0m \u001b[43m    \u001b[49m\u001b[43mcompiled_sql\u001b[49m\u001b[43m,\u001b[49m\n\u001b[1;32m   1576\u001b[0m \u001b[43m    \u001b[49m\u001b[43mdistilled_params\u001b[49m\u001b[43m,\u001b[49m\n\u001b[1;32m   1577\u001b[0m \u001b[43m    \u001b[49m\u001b[43mexecution_options\u001b[49m\u001b[43m,\u001b[49m\n\u001b[1;32m   1578\u001b[0m \u001b[43m    \u001b[49m\u001b[43mcompiled_sql\u001b[49m\u001b[43m,\u001b[49m\n\u001b[1;32m   1579\u001b[0m \u001b[43m    \u001b[49m\u001b[43mdistilled_params\u001b[49m\u001b[43m,\u001b[49m\n\u001b[1;32m   1580\u001b[0m \u001b[43m    \u001b[49m\u001b[43melem\u001b[49m\u001b[43m,\u001b[49m\n\u001b[1;32m   1581\u001b[0m \u001b[43m    \u001b[49m\u001b[43mextracted_params\u001b[49m\u001b[43m,\u001b[49m\n\u001b[1;32m   1582\u001b[0m \u001b[43m    \u001b[49m\u001b[43mcache_hit\u001b[49m\u001b[38;5;241;43m=\u001b[39;49m\u001b[43mcache_hit\u001b[49m\u001b[43m,\u001b[49m\n\u001b[1;32m   1583\u001b[0m \u001b[43m\u001b[49m\u001b[43m)\u001b[49m\n\u001b[1;32m   1584\u001b[0m \u001b[38;5;28;01mif\u001b[39;00m has_events:\n\u001b[1;32m   1585\u001b[0m     \u001b[38;5;28mself\u001b[39m\u001b[38;5;241m.\u001b[39mdispatch\u001b[38;5;241m.\u001b[39mafter_execute(\n\u001b[1;32m   1586\u001b[0m         \u001b[38;5;28mself\u001b[39m,\n\u001b[1;32m   1587\u001b[0m         elem,\n\u001b[0;32m   (...)\u001b[0m\n\u001b[1;32m   1591\u001b[0m         ret,\n\u001b[1;32m   1592\u001b[0m     )\n",
      "File \u001b[0;32m/opt/conda/lib/python3.9/site-packages/sqlalchemy/engine/base.py:1943\u001b[0m, in \u001b[0;36mConnection._execute_context\u001b[0;34m(self, dialect, constructor, statement, parameters, execution_options, *args, **kw)\u001b[0m\n\u001b[1;32m   1940\u001b[0m             branched\u001b[38;5;241m.\u001b[39mclose()\n\u001b[1;32m   1942\u001b[0m \u001b[38;5;28;01mexcept\u001b[39;00m \u001b[38;5;167;01mBaseException\u001b[39;00m \u001b[38;5;28;01mas\u001b[39;00m e:\n\u001b[0;32m-> 1943\u001b[0m     \u001b[38;5;28;43mself\u001b[39;49m\u001b[38;5;241;43m.\u001b[39;49m\u001b[43m_handle_dbapi_exception\u001b[49m\u001b[43m(\u001b[49m\n\u001b[1;32m   1944\u001b[0m \u001b[43m        \u001b[49m\u001b[43me\u001b[49m\u001b[43m,\u001b[49m\u001b[43m \u001b[49m\u001b[43mstatement\u001b[49m\u001b[43m,\u001b[49m\u001b[43m \u001b[49m\u001b[43mparameters\u001b[49m\u001b[43m,\u001b[49m\u001b[43m \u001b[49m\u001b[43mcursor\u001b[49m\u001b[43m,\u001b[49m\u001b[43m \u001b[49m\u001b[43mcontext\u001b[49m\n\u001b[1;32m   1945\u001b[0m \u001b[43m    \u001b[49m\u001b[43m)\u001b[49m\n\u001b[1;32m   1947\u001b[0m \u001b[38;5;28;01mreturn\u001b[39;00m result\n",
      "File \u001b[0;32m/opt/conda/lib/python3.9/site-packages/sqlalchemy/engine/base.py:2124\u001b[0m, in \u001b[0;36mConnection._handle_dbapi_exception\u001b[0;34m(self, e, statement, parameters, cursor, context)\u001b[0m\n\u001b[1;32m   2122\u001b[0m     util\u001b[38;5;241m.\u001b[39mraise_(newraise, with_traceback\u001b[38;5;241m=\u001b[39mexc_info[\u001b[38;5;241m2\u001b[39m], from_\u001b[38;5;241m=\u001b[39me)\n\u001b[1;32m   2123\u001b[0m \u001b[38;5;28;01melif\u001b[39;00m should_wrap:\n\u001b[0;32m-> 2124\u001b[0m     \u001b[43mutil\u001b[49m\u001b[38;5;241;43m.\u001b[39;49m\u001b[43mraise_\u001b[49m\u001b[43m(\u001b[49m\n\u001b[1;32m   2125\u001b[0m \u001b[43m        \u001b[49m\u001b[43msqlalchemy_exception\u001b[49m\u001b[43m,\u001b[49m\u001b[43m \u001b[49m\u001b[43mwith_traceback\u001b[49m\u001b[38;5;241;43m=\u001b[39;49m\u001b[43mexc_info\u001b[49m\u001b[43m[\u001b[49m\u001b[38;5;241;43m2\u001b[39;49m\u001b[43m]\u001b[49m\u001b[43m,\u001b[49m\u001b[43m \u001b[49m\u001b[43mfrom_\u001b[49m\u001b[38;5;241;43m=\u001b[39;49m\u001b[43me\u001b[49m\n\u001b[1;32m   2126\u001b[0m \u001b[43m    \u001b[49m\u001b[43m)\u001b[49m\n\u001b[1;32m   2127\u001b[0m \u001b[38;5;28;01melse\u001b[39;00m:\n\u001b[1;32m   2128\u001b[0m     util\u001b[38;5;241m.\u001b[39mraise_(exc_info[\u001b[38;5;241m1\u001b[39m], with_traceback\u001b[38;5;241m=\u001b[39mexc_info[\u001b[38;5;241m2\u001b[39m])\n",
      "File \u001b[0;32m/opt/conda/lib/python3.9/site-packages/sqlalchemy/util/compat.py:208\u001b[0m, in \u001b[0;36mraise_\u001b[0;34m(***failed resolving arguments***)\u001b[0m\n\u001b[1;32m    205\u001b[0m     exception\u001b[38;5;241m.\u001b[39m__cause__ \u001b[38;5;241m=\u001b[39m replace_context\n\u001b[1;32m    207\u001b[0m \u001b[38;5;28;01mtry\u001b[39;00m:\n\u001b[0;32m--> 208\u001b[0m     \u001b[38;5;28;01mraise\u001b[39;00m exception\n\u001b[1;32m    209\u001b[0m \u001b[38;5;28;01mfinally\u001b[39;00m:\n\u001b[1;32m    210\u001b[0m     \u001b[38;5;66;03m# credit to\u001b[39;00m\n\u001b[1;32m    211\u001b[0m     \u001b[38;5;66;03m# https://cosmicpercolator.com/2016/01/13/exception-leaks-in-python-2-and-3/\u001b[39;00m\n\u001b[1;32m    212\u001b[0m     \u001b[38;5;66;03m# as the __traceback__ object creates a cycle\u001b[39;00m\n\u001b[1;32m    213\u001b[0m     \u001b[38;5;28;01mdel\u001b[39;00m exception, replace_context, from_, with_traceback\n",
      "File \u001b[0;32m/opt/conda/lib/python3.9/site-packages/sqlalchemy/engine/base.py:1900\u001b[0m, in \u001b[0;36mConnection._execute_context\u001b[0;34m(self, dialect, constructor, statement, parameters, execution_options, *args, **kw)\u001b[0m\n\u001b[1;32m   1898\u001b[0m                 \u001b[38;5;28;01mbreak\u001b[39;00m\n\u001b[1;32m   1899\u001b[0m     \u001b[38;5;28;01mif\u001b[39;00m \u001b[38;5;129;01mnot\u001b[39;00m evt_handled:\n\u001b[0;32m-> 1900\u001b[0m         \u001b[38;5;28;43mself\u001b[39;49m\u001b[38;5;241;43m.\u001b[39;49m\u001b[43mdialect\u001b[49m\u001b[38;5;241;43m.\u001b[39;49m\u001b[43mdo_execute\u001b[49m\u001b[43m(\u001b[49m\n\u001b[1;32m   1901\u001b[0m \u001b[43m            \u001b[49m\u001b[43mcursor\u001b[49m\u001b[43m,\u001b[49m\u001b[43m \u001b[49m\u001b[43mstatement\u001b[49m\u001b[43m,\u001b[49m\u001b[43m \u001b[49m\u001b[43mparameters\u001b[49m\u001b[43m,\u001b[49m\u001b[43m \u001b[49m\u001b[43mcontext\u001b[49m\n\u001b[1;32m   1902\u001b[0m \u001b[43m        \u001b[49m\u001b[43m)\u001b[49m\n\u001b[1;32m   1904\u001b[0m \u001b[38;5;28;01mif\u001b[39;00m \u001b[38;5;28mself\u001b[39m\u001b[38;5;241m.\u001b[39m_has_events \u001b[38;5;129;01mor\u001b[39;00m \u001b[38;5;28mself\u001b[39m\u001b[38;5;241m.\u001b[39mengine\u001b[38;5;241m.\u001b[39m_has_events:\n\u001b[1;32m   1905\u001b[0m     \u001b[38;5;28mself\u001b[39m\u001b[38;5;241m.\u001b[39mdispatch\u001b[38;5;241m.\u001b[39mafter_cursor_execute(\n\u001b[1;32m   1906\u001b[0m         \u001b[38;5;28mself\u001b[39m,\n\u001b[1;32m   1907\u001b[0m         cursor,\n\u001b[0;32m   (...)\u001b[0m\n\u001b[1;32m   1911\u001b[0m         context\u001b[38;5;241m.\u001b[39mexecutemany,\n\u001b[1;32m   1912\u001b[0m     )\n",
      "File \u001b[0;32m/opt/conda/lib/python3.9/site-packages/trino/sqlalchemy/dialect.py:399\u001b[0m, in \u001b[0;36mTrinoDialect.do_execute\u001b[0;34m(self, cursor, statement, parameters, context)\u001b[0m\n\u001b[1;32m    396\u001b[0m \u001b[38;5;28;01mdef\u001b[39;00m \u001b[38;5;21mdo_execute\u001b[39m(\n\u001b[1;32m    397\u001b[0m     \u001b[38;5;28mself\u001b[39m, cursor: Cursor, statement: \u001b[38;5;28mstr\u001b[39m, parameters: Tuple[Any, \u001b[38;5;241m.\u001b[39m\u001b[38;5;241m.\u001b[39m\u001b[38;5;241m.\u001b[39m], context: DefaultExecutionContext \u001b[38;5;241m=\u001b[39m \u001b[38;5;28;01mNone\u001b[39;00m\n\u001b[1;32m    398\u001b[0m ):\n\u001b[0;32m--> 399\u001b[0m     \u001b[43mcursor\u001b[49m\u001b[38;5;241;43m.\u001b[39;49m\u001b[43mexecute\u001b[49m\u001b[43m(\u001b[49m\u001b[43mstatement\u001b[49m\u001b[43m,\u001b[49m\u001b[43m \u001b[49m\u001b[43mparameters\u001b[49m\u001b[43m)\u001b[49m\n",
      "File \u001b[0;32m/opt/conda/lib/python3.9/site-packages/trino/dbapi.py:592\u001b[0m, in \u001b[0;36mCursor.execute\u001b[0;34m(self, operation, params)\u001b[0m\n\u001b[1;32m    589\u001b[0m \u001b[38;5;28;01melse\u001b[39;00m:\n\u001b[1;32m    590\u001b[0m     \u001b[38;5;28mself\u001b[39m\u001b[38;5;241m.\u001b[39m_query \u001b[38;5;241m=\u001b[39m trino\u001b[38;5;241m.\u001b[39mclient\u001b[38;5;241m.\u001b[39mTrinoQuery(\u001b[38;5;28mself\u001b[39m\u001b[38;5;241m.\u001b[39m_request, query\u001b[38;5;241m=\u001b[39moperation,\n\u001b[1;32m    591\u001b[0m                                           legacy_primitive_types\u001b[38;5;241m=\u001b[39m\u001b[38;5;28mself\u001b[39m\u001b[38;5;241m.\u001b[39m_legacy_primitive_types)\n\u001b[0;32m--> 592\u001b[0m     \u001b[38;5;28mself\u001b[39m\u001b[38;5;241m.\u001b[39m_iterator \u001b[38;5;241m=\u001b[39m \u001b[38;5;28miter\u001b[39m(\u001b[38;5;28;43mself\u001b[39;49m\u001b[38;5;241;43m.\u001b[39;49m\u001b[43m_query\u001b[49m\u001b[38;5;241;43m.\u001b[39;49m\u001b[43mexecute\u001b[49m\u001b[43m(\u001b[49m\u001b[43m)\u001b[49m)\n\u001b[1;32m    593\u001b[0m \u001b[38;5;28;01mreturn\u001b[39;00m \u001b[38;5;28mself\u001b[39m\n",
      "File \u001b[0;32m/opt/conda/lib/python3.9/site-packages/trino/client.py:810\u001b[0m, in \u001b[0;36mTrinoQuery.execute\u001b[0;34m(self, additional_http_headers)\u001b[0m\n\u001b[1;32m    808\u001b[0m \u001b[38;5;66;03m# Execute should block until at least one row is received or query is finished or cancelled\u001b[39;00m\n\u001b[1;32m    809\u001b[0m \u001b[38;5;28;01mwhile\u001b[39;00m \u001b[38;5;129;01mnot\u001b[39;00m \u001b[38;5;28mself\u001b[39m\u001b[38;5;241m.\u001b[39mfinished \u001b[38;5;129;01mand\u001b[39;00m \u001b[38;5;129;01mnot\u001b[39;00m \u001b[38;5;28mself\u001b[39m\u001b[38;5;241m.\u001b[39mcancelled \u001b[38;5;129;01mand\u001b[39;00m \u001b[38;5;28mlen\u001b[39m(\u001b[38;5;28mself\u001b[39m\u001b[38;5;241m.\u001b[39m_result\u001b[38;5;241m.\u001b[39mrows) \u001b[38;5;241m==\u001b[39m \u001b[38;5;241m0\u001b[39m:\n\u001b[0;32m--> 810\u001b[0m     \u001b[38;5;28mself\u001b[39m\u001b[38;5;241m.\u001b[39m_result\u001b[38;5;241m.\u001b[39mrows \u001b[38;5;241m+\u001b[39m\u001b[38;5;241m=\u001b[39m \u001b[38;5;28;43mself\u001b[39;49m\u001b[38;5;241;43m.\u001b[39;49m\u001b[43mfetch\u001b[49m\u001b[43m(\u001b[49m\u001b[43m)\u001b[49m\n\u001b[1;32m    811\u001b[0m \u001b[38;5;28;01mreturn\u001b[39;00m \u001b[38;5;28mself\u001b[39m\u001b[38;5;241m.\u001b[39m_result\n",
      "File \u001b[0;32m/opt/conda/lib/python3.9/site-packages/trino/client.py:830\u001b[0m, in \u001b[0;36mTrinoQuery.fetch\u001b[0;34m(self)\u001b[0m\n\u001b[1;32m    828\u001b[0m \u001b[38;5;28;01mexcept\u001b[39;00m requests\u001b[38;5;241m.\u001b[39mexceptions\u001b[38;5;241m.\u001b[39mRequestException \u001b[38;5;28;01mas\u001b[39;00m e:\n\u001b[1;32m    829\u001b[0m     \u001b[38;5;28;01mraise\u001b[39;00m trino\u001b[38;5;241m.\u001b[39mexceptions\u001b[38;5;241m.\u001b[39mTrinoConnectionError(\u001b[38;5;124m\"\u001b[39m\u001b[38;5;124mfailed to fetch: \u001b[39m\u001b[38;5;132;01m{}\u001b[39;00m\u001b[38;5;124m\"\u001b[39m\u001b[38;5;241m.\u001b[39mformat(e))\n\u001b[0;32m--> 830\u001b[0m status \u001b[38;5;241m=\u001b[39m \u001b[38;5;28;43mself\u001b[39;49m\u001b[38;5;241;43m.\u001b[39;49m\u001b[43m_request\u001b[49m\u001b[38;5;241;43m.\u001b[39;49m\u001b[43mprocess\u001b[49m\u001b[43m(\u001b[49m\u001b[43mresponse\u001b[49m\u001b[43m)\u001b[49m\n\u001b[1;32m    831\u001b[0m \u001b[38;5;28mself\u001b[39m\u001b[38;5;241m.\u001b[39m_update_state(status)\n\u001b[1;32m    832\u001b[0m logger\u001b[38;5;241m.\u001b[39mdebug(status)\n",
      "File \u001b[0;32m/opt/conda/lib/python3.9/site-packages/trino/client.py:609\u001b[0m, in \u001b[0;36mTrinoRequest.process\u001b[0;34m(self, http_response)\u001b[0m\n\u001b[1;32m    607\u001b[0m logger\u001b[38;5;241m.\u001b[39mdebug(\u001b[38;5;124m\"\u001b[39m\u001b[38;5;124mHTTP \u001b[39m\u001b[38;5;132;01m%s\u001b[39;00m\u001b[38;5;124m: \u001b[39m\u001b[38;5;132;01m%s\u001b[39;00m\u001b[38;5;124m\"\u001b[39m, http_response\u001b[38;5;241m.\u001b[39mstatus_code, response)\n\u001b[1;32m    608\u001b[0m \u001b[38;5;28;01mif\u001b[39;00m \u001b[38;5;124m\"\u001b[39m\u001b[38;5;124merror\u001b[39m\u001b[38;5;124m\"\u001b[39m \u001b[38;5;129;01min\u001b[39;00m response:\n\u001b[0;32m--> 609\u001b[0m     \u001b[38;5;28;01mraise\u001b[39;00m \u001b[38;5;28mself\u001b[39m\u001b[38;5;241m.\u001b[39m_process_error(response[\u001b[38;5;124m\"\u001b[39m\u001b[38;5;124merror\u001b[39m\u001b[38;5;124m\"\u001b[39m], response\u001b[38;5;241m.\u001b[39mget(\u001b[38;5;124m\"\u001b[39m\u001b[38;5;124mid\u001b[39m\u001b[38;5;124m\"\u001b[39m))\n\u001b[1;32m    611\u001b[0m \u001b[38;5;28;01mif\u001b[39;00m constants\u001b[38;5;241m.\u001b[39mHEADER_CLEAR_SESSION \u001b[38;5;129;01min\u001b[39;00m http_response\u001b[38;5;241m.\u001b[39mheaders:\n\u001b[1;32m    612\u001b[0m     \u001b[38;5;28;01mfor\u001b[39;00m prop \u001b[38;5;129;01min\u001b[39;00m get_header_values(\n\u001b[1;32m    613\u001b[0m         http_response\u001b[38;5;241m.\u001b[39mheaders, constants\u001b[38;5;241m.\u001b[39mHEADER_CLEAR_SESSION\n\u001b[1;32m    614\u001b[0m     ):\n",
      "\u001b[0;31mProgrammingError\u001b[0m: (trino.exceptions.TrinoUserError) TrinoUserError(type=USER_ERROR, name=SYNTAX_ERROR, message=\"line 1:132: mismatched input 'USING'. Expecting: 'COMMENT', 'WITH', <EOF>\", query_id=20231102_175215_00163_gh2b3)\n[SQL: CREATE TABLE IF NOT EXISTS iceberg.db.b (Symbol varchar, CompanyName varchar, Series varchar, Industry varchar, ISIN_Code varchar) USING iceberg]\n(Background on this error at: https://sqlalche.me/e/14/f405)"
     ]
    }
   ],
   "source": [
    "connection.execute(text(\"CREATE TABLE IF NOT EXISTS iceberg.db.b (Symbol varchar, CompanyName varchar, Series varchar, Industry varchar, ISIN_Code varchar)\"))"
   ]
  },
  {
   "cell_type": "code",
   "execution_count": null,
   "id": "103f4162-825b-4f9b-87f2-fd5f2007594e",
   "metadata": {},
   "outputs": [],
   "source": [
    "from pyspark.sql.functions import *"
   ]
  },
  {
   "cell_type": "code",
   "execution_count": null,
   "id": "82702846",
   "metadata": {},
   "outputs": [],
   "source": [
    "df = spark.read.format(\"iceberg\").load(\"hive_prod.silver.cleaned_stocks\")\n",
    "# df = df.withColumnRenamed(\"VWAP\", \"Volume_Weight_Avg_Price\") \\\n",
    "#     .withColumn(\"Date\", date_format(\"Date\", \"dd-MM-yyyy\")) \\\n",
    "#     .drop('ID')\n",
    "df.show(3)"
   ]
  },
  {
   "cell_type": "code",
   "execution_count": null,
   "id": "9cc8b0e5",
   "metadata": {},
   "outputs": [],
   "source": [
    "# type(df['Open'])\n",
    "df.describe().toPandas()"
   ]
  },
  {
   "cell_type": "code",
   "execution_count": null,
   "id": "61b8ec1c",
   "metadata": {},
   "outputs": [],
   "source": [
    "df.distinct().count()"
   ]
  },
  {
   "cell_type": "code",
   "execution_count": null,
   "id": "6ca0a941-1e4a-4a16-8b1f-d34c2b0b7641",
   "metadata": {},
   "outputs": [],
   "source": [
    "df.select(['Open', 'High', 'Low', 'Last', 'Close', 'Volume']).describe().toPandas()"
   ]
  },
  {
   "cell_type": "code",
   "execution_count": null,
   "id": "97475261-c865-437a-8909-5e5ff17f30cc",
   "metadata": {},
   "outputs": [],
   "source": [
    "df.groupBy('Symbol').count().show()"
   ]
  },
  {
   "cell_type": "code",
   "execution_count": null,
   "id": "551bfa9b-8d14-4eed-a40d-6a6811605675",
   "metadata": {},
   "outputs": [],
   "source": [
    "import pyspark.sql.functions as f"
   ]
  },
  {
   "cell_type": "code",
   "execution_count": null,
   "id": "56470bd8-35cd-4500-8b93-e5dff05511bf",
   "metadata": {},
   "outputs": [],
   "source": [
    "hdfc = df.filter(col('Symbol')=='HDFC')\n",
    "hdfc.show()"
   ]
  },
  {
   "cell_type": "code",
   "execution_count": null,
   "id": "2c2acb3a-59d5-4312-822f-3b56b7de7f2c",
   "metadata": {},
   "outputs": [],
   "source": [
    "from pyspark.sql.functions import *"
   ]
  },
  {
   "cell_type": "code",
   "execution_count": null,
   "id": "6574c9c1-8432-49a1-bf56-e83cc8daeebe",
   "metadata": {},
   "outputs": [],
   "source": [
    "df.groupBy('Symbol') \\\n",
    "    .agg(min('Date').alias('Start'),\n",
    "         max('Date').alias('End'),\n",
    "         \n",
    "         min('Open').alias('Min_Open'),\n",
    "         max('Open').alias('Max_Open'),\n",
    "         avg('Open').alias('Avg_Open'),\n",
    "         \n",
    "         min('High').alias('Min_High'),\n",
    "         max('High').alias('Max_High'),\n",
    "         avg('High').alias('Avg_High'),\n",
    "         \n",
    "         min('Low').alias('Min_Low'),\n",
    "         max('Low').alias('Max_Low'),\n",
    "         avg('Low').alias('Avg_Low'),\n",
    "         \n",
    "         min('Last').alias('Min_Last'),\n",
    "         max('Last').alias('Max_Last'),\n",
    "         avg('Last').alias('Avg_Last'),\n",
    "         \n",
    "         min('Close').alias('Min_Close'),\n",
    "         max('Close').alias('Max_Close'),\n",
    "         avg('Close').alias('Avg_Close'),\n",
    "         \n",
    "         sum('Volume').alias('Sum_Volume'),\n",
    "        ).toPandas()"
   ]
  },
  {
   "cell_type": "code",
   "execution_count": 2,
   "id": "762b2a0e-aa84-41c9-a7d8-f2de84f91de7",
   "metadata": {},
   "outputs": [
    {
     "name": "stdout",
     "output_type": "stream",
     "text": [
      "+----------+----------+----------+----------+----------+---------+----------+-----------+-----------------------+--------+----------------+------+------------------+-------------------+\n",
      "|      Date|    Symbol|Prev_Close|Open_Price|High_Price|Low_Price|Last_Price|Close_Price|Volume_Weight_Avg_Price|  Volume|        Turnover|Trades|Deliverable_Volume|Percent_Deliverable|\n",
      "+----------+----------+----------+----------+----------+---------+----------+-----------+-----------------------+--------+----------------+------+------------------+-------------------+\n",
      "|27-11-2007|ADANIPORTS|     440.0|     770.0|    1050.0|    770.0|     959.0|      962.9|                 984.72|27294366|2690000000000000|     0|           9859619|               0.36|\n",
      "|28-11-2007|ADANIPORTS|     962.9|     984.0|     990.0|    874.0|     885.0|      893.9|                 941.38| 4581338| 431000000000000|     0|           1453278|               0.32|\n",
      "|29-11-2007|ADANIPORTS|     893.9|     909.0|    914.75|    841.0|     887.0|      884.2|                 888.09| 5124121| 455000000000000|     0|           1069678|               0.21|\n",
      "+----------+----------+----------+----------+----------+---------+----------+-----------+-----------------------+--------+----------------+------+------------------+-------------------+\n",
      "only showing top 3 rows\n",
      "\n"
     ]
    }
   ],
   "source": [
    "df = spark.read.format(\"iceberg\").load(\"hive_prod.silver.cleaned_trades\")\n",
    "# df = df.withColumnRenamed(\"VWAP\", \"Volume_Weight_Avg_Price\") \\\n",
    "#     .withColumn(\"Date\", date_format(\"Date\", \"dd-MM-yyyy\")) \\\n",
    "#     .drop('ID')\n",
    "df.show(3)"
   ]
  },
  {
   "cell_type": "code",
   "execution_count": 4,
   "id": "8950f86e-1225-422a-a4fe-b2132012b34b",
   "metadata": {},
   "outputs": [
    {
     "data": {
      "text/plain": [
       "DataFrame[]"
      ]
     },
     "execution_count": 4,
     "metadata": {},
     "output_type": "execute_result"
    }
   ],
   "source": [
    "spark.sql(\"CREATE DATABASE IF NOT EXISTS hive_prod.gold\")"
   ]
  },
  {
   "cell_type": "code",
   "execution_count": 9,
   "id": "d352c854-2424-4b7c-9af6-cf184c49e64b",
   "metadata": {},
   "outputs": [],
   "source": [
    "df.write.format(\"iceberg\").mode(\"overwrite\").saveAsTable(\"hive_prod.gold.gold1\")"
   ]
  }
 ],
 "metadata": {
  "kernelspec": {
   "display_name": "Python 3 (ipykernel)",
   "language": "python",
   "name": "python3"
  },
  "language_info": {
   "codemirror_mode": {
    "name": "ipython",
    "version": 3
   },
   "file_extension": ".py",
   "mimetype": "text/x-python",
   "name": "python",
   "nbconvert_exporter": "python",
   "pygments_lexer": "ipython3",
   "version": "3.9.13"
  }
 },
 "nbformat": 4,
 "nbformat_minor": 5
}
