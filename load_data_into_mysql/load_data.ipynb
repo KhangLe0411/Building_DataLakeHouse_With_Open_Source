{
 "cells": [
  {
   "cell_type": "code",
   "execution_count": 1,
   "metadata": {},
   "outputs": [],
   "source": [
    "import os\n",
    "import pandas as pd\n",
    "import mysql.connector\n",
    "from mysql.connector import Error"
   ]
  },
  {
   "cell_type": "code",
   "execution_count": 2,
   "metadata": {},
   "outputs": [],
   "source": [
    "try:\n",
    "    connection = mysql.connector.connect(\n",
    "        host='127.0.0.1',\n",
    "        port=3307,\n",
    "        database='stock',\n",
    "        user='root',\n",
    "        password=os.getenv('MYSQL_ROOT_PASSWORD')\n",
    "    )\n",
    "except Error as e:\n",
    "    print(\"Lỗi kết nối MySQL:\", e)\n",
    "    exit()"
   ]
  },
  {
   "cell_type": "code",
   "execution_count": 3,
   "metadata": {},
   "outputs": [],
   "source": [
    "folder_path = '../data/'"
   ]
  },
  {
   "cell_type": "code",
   "execution_count": 4,
   "metadata": {},
   "outputs": [
    {
     "data": {
      "text/plain": [
       "True"
      ]
     },
     "execution_count": 4,
     "metadata": {},
     "output_type": "execute_result"
    }
   ],
   "source": [
    "file_path = os.path.join(folder_path, 'stock_metadata.csv')\n",
    "df = pd.read_csv(file_path).fillna(0)\n",
    "cursor = connection.cursor()\n",
    "for _, row in df.iterrows():\n",
    "    query1 = \"INSERT INTO Stocks (Symbol, CompanyName, Series, Industry, ISIN_Code) VALUES (%s, %s, %s, %s, %s)\"\n",
    "    value1 = (row['Symbol'], row['Company Name'], row['Series'], row['Industry'], row['ISIN Code'])\n",
    "    cursor.execute(query1, value1)\n",
    "        \n",
    "connection.commit()\n",
    "cursor.close()"
   ]
  },
  {
   "cell_type": "code",
   "execution_count": 5,
   "metadata": {},
   "outputs": [
    {
     "name": "stderr",
     "output_type": "stream",
     "text": [
      "C:\\Users\\ADMINS\\AppData\\Local\\Temp\\ipykernel_19524\\577883941.py:2: UserWarning: Parsing dates in %d/%m/%Y format when dayfirst=False (the default) was specified. Pass `dayfirst=True` or specify a format to silence this warning.\n",
      "  df = pd.read_csv(file_path, parse_dates=['Date']).fillna(0)\n"
     ]
    },
    {
     "data": {
      "text/plain": [
       "True"
      ]
     },
     "execution_count": 5,
     "metadata": {},
     "output_type": "execute_result"
    }
   ],
   "source": [
    "file_path = os.path.join(folder_path, 'NIFTY50_all.csv')\n",
    "df = pd.read_csv(file_path, parse_dates=['Date']).fillna(0)\n",
    "cursor = connection.cursor()\n",
    "for _, row in df.iterrows():\n",
    "    query2 = \"\"\"\n",
    "        INSERT INTO Trades (Date, Symbol, Prev_Close, Open, High, Low, Last, Close, VWAP, Volume, \n",
    "        Turnover, Trades, Deliverable_Volume, Percent_Deliverable) VALUES (%s, %s, %s, %s, %s, %s, %s, %s, %s, %s, %s, %s, %s, %s)\n",
    "    \"\"\"\n",
    "    value2 = (row['Date'], row['Symbol'], row['Prev Close'], row['Open'], row['High'], row['Low'], \n",
    "     row['Last'], row['Close'], row['VWAP'], row['Volume'], row['Turnover'], row['Trades'], row['Deliverable Volume'], row['%Deliverble'])\n",
    "    cursor.execute(query2, value2)\n",
    "    \n",
    "connection.commit()\n",
    "cursor.close()\n"
   ]
  },
  {
   "cell_type": "code",
   "execution_count": 11,
   "metadata": {},
   "outputs": [],
   "source": [
    "from sqlalchemy import create_engine\n",
    "from sqlalchemy.sql.expression import select, text\n",
    "\n",
    "engine = create_engine('trino://trino@localhost:8085/iceberg')\n",
    "connection = engine.connect()\n",
    "\n",
    "rows = connection.execute(text(\"SELECT * FROM information_schema.tables\")).fetchall()"
   ]
  },
  {
   "cell_type": "code",
   "execution_count": 12,
   "metadata": {},
   "outputs": [
    {
     "name": "stdout",
     "output_type": "stream",
     "text": [
      "('iceberg', 'information_schema', 'columns', 'BASE TABLE')\n",
      "('iceberg', 'information_schema', 'tables', 'BASE TABLE')\n",
      "('iceberg', 'information_schema', 'views', 'BASE TABLE')\n",
      "('iceberg', 'information_schema', 'schemata', 'BASE TABLE')\n",
      "('iceberg', 'information_schema', 'table_privileges', 'BASE TABLE')\n",
      "('iceberg', 'information_schema', 'roles', 'BASE TABLE')\n",
      "('iceberg', 'information_schema', 'applicable_roles', 'BASE TABLE')\n",
      "('iceberg', 'information_schema', 'enabled_roles', 'BASE TABLE')\n",
      "('iceberg', 'information_schema', 'role_authorization_descriptors', 'BASE TABLE')\n"
     ]
    }
   ],
   "source": [
    "for i in rows:\n",
    "    print(i)"
   ]
  }
 ],
 "metadata": {
  "kernelspec": {
   "display_name": "Python 3",
   "language": "python",
   "name": "python3"
  },
  "language_info": {
   "codemirror_mode": {
    "name": "ipython",
    "version": 3
   },
   "file_extension": ".py",
   "mimetype": "text/x-python",
   "name": "python",
   "nbconvert_exporter": "python",
   "pygments_lexer": "ipython3",
   "version": "3.9.13"
  }
 },
 "nbformat": 4,
 "nbformat_minor": 2
}
