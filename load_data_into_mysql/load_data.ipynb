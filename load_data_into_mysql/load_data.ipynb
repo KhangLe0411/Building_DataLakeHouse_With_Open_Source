{
 "cells": [
  {
   "cell_type": "code",
   "execution_count": 1,
   "metadata": {},
   "outputs": [],
   "source": [
    "import os\n",
    "import pandas as pd\n",
    "import mysql.connector\n",
    "from mysql.connector import Error"
   ]
  },
  {
   "cell_type": "code",
   "execution_count": 6,
   "metadata": {},
   "outputs": [],
   "source": [
    "try:\n",
    "    connection = mysql.connector.connect(\n",
    "        host='127.0.0.1',\n",
    "        port=3307,\n",
    "        database=os.getenv('MYSQL_DATABASES'),\n",
    "        user=os.getenv('MYSQL_ROOT_USER'),\n",
    "        password=os.getenv('MYSQL_ROOT_PASSWORD')\n",
    "    )\n",
    "except Error as e:\n",
    "    print(\"Lỗi kết nối MySQL:\", e)\n",
    "    exit()"
   ]
  },
  {
   "cell_type": "code",
   "execution_count": 7,
   "metadata": {},
   "outputs": [],
   "source": [
    "folder_path = '../data/'"
   ]
  },
  {
   "cell_type": "code",
   "execution_count": 8,
   "metadata": {},
   "outputs": [
    {
     "data": {
      "text/plain": [
       "True"
      ]
     },
     "execution_count": 8,
     "metadata": {},
     "output_type": "execute_result"
    }
   ],
   "source": [
    "file_path = os.path.join(folder_path, 'companies.csv')\n",
    "df = pd.read_csv(file_path)\n",
    "cursor = connection.cursor()\n",
    "for _, row in df.iterrows():\n",
    "    query1 = \"INSERT INTO companies (symbol, comGroupCode, organName, organShortName, organTypeCode, icbName, sector, industry, `group`, subGroup, icbCode) VALUES (%s, %s, %s, %s, %s, %s, %s, %s, %s, %s, %s)\"\n",
    "    value1 = (row['ticker'], row['comGroupCode'],\n",
    "              row['organName'], row['organShortName'], row['organTypeCode'], row['icbName'],\n",
    "              row['sector'], row['industry'], row['group'], row['subgroup'], row['icbCode'])\n",
    "    cursor.execute(query1, value1)\n",
    "        \n",
    "connection.commit()\n",
    "cursor.close()"
   ]
  },
  {
   "cell_type": "code",
   "execution_count": 9,
   "metadata": {},
   "outputs": [
    {
     "data": {
      "text/plain": [
       "True"
      ]
     },
     "execution_count": 9,
     "metadata": {},
     "output_type": "execute_result"
    }
   ],
   "source": [
    "file_path = os.path.join(folder_path, 'all_stocks.csv')\n",
    "df = pd.read_csv(file_path)\n",
    "df = df.drop([\"Time\"], axis=1)\n",
    "df['TradingDate'] = pd.to_datetime(df['TradingDate'], dayfirst=True)\n",
    "# df.head()\n",
    "cursor = connection.cursor()\n",
    "for _, row in df.iterrows():\n",
    "    query2 = \"\"\"\n",
    "        INSERT INTO Trades (symbol, value, tradingDate, open, high, low, close, volume) VALUES (%s, %s, %s, %s, %s, %s, %s, %s)\n",
    "    \"\"\"\n",
    "    value2 = (row['Symbol'], row['Value'], row['TradingDate'], row['Open'], row['High'],\n",
    "              row['Low'], row['Close'], row['Volume'])\n",
    "    cursor.execute(query2, value2)\n",
    "    \n",
    "connection.commit()\n",
    "cursor.close()"
   ]
  },
  {
   "cell_type": "code",
   "execution_count": null,
   "metadata": {},
   "outputs": [],
   "source": [
    "from sqlalchemy import create_engine\n",
    "from sqlalchemy.sql.expression import select, text\n",
    "\n",
    "engine = create_engine('trino://trino@localhost:8085/iceberg')\n",
    "connection = engine.connect()\n",
    "\n",
    "rows = connection.execute(text(\"SELECT * FROM information_schema.tables\")).fetchall()"
   ]
  },
  {
   "cell_type": "code",
   "execution_count": null,
   "metadata": {},
   "outputs": [],
   "source": [
    "for i in rows:\n",
    "    print(i)"
   ]
  },
  {
   "cell_type": "code",
   "execution_count": 2,
   "metadata": {},
   "outputs": [],
   "source": [
    "import pandas as pd\n",
    "import os, glob"
   ]
  },
  {
   "cell_type": "code",
   "execution_count": 3,
   "metadata": {},
   "outputs": [],
   "source": [
    "path = \"../data/\""
   ]
  },
  {
   "cell_type": "code",
   "execution_count": null,
   "metadata": {},
   "outputs": [],
   "source": [
    "file_path = os.path.join(path, 'companies.csv')\n",
    "file_path"
   ]
  },
  {
   "cell_type": "code",
   "execution_count": null,
   "metadata": {},
   "outputs": [],
   "source": [
    "dff = pd.read_csv(file_path, index_col=None, header=0)\n",
    "dff.head()"
   ]
  },
  {
   "cell_type": "code",
   "execution_count": 4,
   "metadata": {},
   "outputs": [
    {
     "data": {
      "text/html": [
       "<div>\n",
       "<style scoped>\n",
       "    .dataframe tbody tr th:only-of-type {\n",
       "        vertical-align: middle;\n",
       "    }\n",
       "\n",
       "    .dataframe tbody tr th {\n",
       "        vertical-align: top;\n",
       "    }\n",
       "\n",
       "    .dataframe thead th {\n",
       "        text-align: right;\n",
       "    }\n",
       "</style>\n",
       "<table border=\"1\" class=\"dataframe\">\n",
       "  <thead>\n",
       "    <tr style=\"text-align: right;\">\n",
       "      <th></th>\n",
       "      <th>Symbol</th>\n",
       "      <th>Value</th>\n",
       "      <th>TradingDate</th>\n",
       "      <th>Time</th>\n",
       "      <th>Open</th>\n",
       "      <th>High</th>\n",
       "      <th>Low</th>\n",
       "      <th>Close</th>\n",
       "      <th>Volume</th>\n",
       "    </tr>\n",
       "  </thead>\n",
       "  <tbody>\n",
       "    <tr>\n",
       "      <th>0</th>\n",
       "      <td>ACB</td>\n",
       "      <td>4.397575e+10</td>\n",
       "      <td>02/01/2013</td>\n",
       "      <td>NaN</td>\n",
       "      <td>16300</td>\n",
       "      <td>17400</td>\n",
       "      <td>16300</td>\n",
       "      <td>17300</td>\n",
       "      <td>2578600</td>\n",
       "    </tr>\n",
       "    <tr>\n",
       "      <th>1</th>\n",
       "      <td>ACB</td>\n",
       "      <td>3.379012e+10</td>\n",
       "      <td>03/01/2013</td>\n",
       "      <td>NaN</td>\n",
       "      <td>17500</td>\n",
       "      <td>17800</td>\n",
       "      <td>16700</td>\n",
       "      <td>17000</td>\n",
       "      <td>1967200</td>\n",
       "    </tr>\n",
       "    <tr>\n",
       "      <th>2</th>\n",
       "      <td>ACB</td>\n",
       "      <td>1.989316e+10</td>\n",
       "      <td>04/01/2013</td>\n",
       "      <td>NaN</td>\n",
       "      <td>16900</td>\n",
       "      <td>17200</td>\n",
       "      <td>16700</td>\n",
       "      <td>17200</td>\n",
       "      <td>1170100</td>\n",
       "    </tr>\n",
       "    <tr>\n",
       "      <th>3</th>\n",
       "      <td>ACB</td>\n",
       "      <td>2.333590e+10</td>\n",
       "      <td>07/01/2013</td>\n",
       "      <td>NaN</td>\n",
       "      <td>17000</td>\n",
       "      <td>17500</td>\n",
       "      <td>17000</td>\n",
       "      <td>17200</td>\n",
       "      <td>1355700</td>\n",
       "    </tr>\n",
       "    <tr>\n",
       "      <th>4</th>\n",
       "      <td>ACB</td>\n",
       "      <td>3.749339e+10</td>\n",
       "      <td>08/01/2013</td>\n",
       "      <td>NaN</td>\n",
       "      <td>17100</td>\n",
       "      <td>17500</td>\n",
       "      <td>16900</td>\n",
       "      <td>17300</td>\n",
       "      <td>2180000</td>\n",
       "    </tr>\n",
       "  </tbody>\n",
       "</table>\n",
       "</div>"
      ],
      "text/plain": [
       "  Symbol         Value TradingDate  Time   Open   High    Low  Close   Volume\n",
       "0    ACB  4.397575e+10  02/01/2013   NaN  16300  17400  16300  17300  2578600\n",
       "1    ACB  3.379012e+10  03/01/2013   NaN  17500  17800  16700  17000  1967200\n",
       "2    ACB  1.989316e+10  04/01/2013   NaN  16900  17200  16700  17200  1170100\n",
       "3    ACB  2.333590e+10  07/01/2013   NaN  17000  17500  17000  17200  1355700\n",
       "4    ACB  3.749339e+10  08/01/2013   NaN  17100  17500  16900  17300  2180000"
      ]
     },
     "execution_count": 4,
     "metadata": {},
     "output_type": "execute_result"
    }
   ],
   "source": [
    "all_files = glob.glob(os.path.join(path, \"*.csv\"))\n",
    "# all_files\n",
    "l = []\n",
    "for filename in all_files:\n",
    "    if filename != \"../data\\\\companies.csv\":\n",
    "        df = pd.read_csv(filename, index_col=None, header=0)\n",
    "        l.append(df)\n",
    "\n",
    "frame = pd.concat(l, ignore_index=True, axis=0)\n",
    "# frame['TradingDate'] = pd.to_datetime(frame['TradingDate'], dayfirst=True)\n",
    "# frame = frame.drop([\"Unnamed: 0\"], axis=1)\n",
    "frame.head()"
   ]
  },
  {
   "cell_type": "code",
   "execution_count": 5,
   "metadata": {},
   "outputs": [],
   "source": [
    "frame.to_csv('../data/all_stocks.csv', index=False)"
   ]
  },
  {
   "cell_type": "code",
   "execution_count": 50,
   "metadata": {},
   "outputs": [
    {
     "name": "stdout",
     "output_type": "stream",
     "text": [
      "730798\n"
     ]
    }
   ],
   "source": [
    "import random\n",
    "\n",
    "\n",
    "def generate_unique_sequence():\n",
    "    while True:\n",
    "        # Tạo dãy số ngẫu nhiên gồm 6 chữ số\n",
    "        sequence = [random.randint(1, 9)] + random.sample(range(10), 5)\n",
    "\n",
    "        # Kiểm tra tính duy nhất của dãy số\n",
    "        if not 'previous_sequence' in locals() or sequence != previous_sequence:\n",
    "            break\n",
    "\n",
    "    # Lưu dãy số hiện tại để sử dụng làm dãy trước đó cho lần tiếp theo\n",
    "    globals()['previous_sequence'] = sequence\n",
    "    number_string = ''.join(map(str, sequence))\n",
    "    result = int(number_string)\n",
    "    return result\n",
    "\n",
    "\n",
    "# Sử dụng hàm để tạo dãy số không trùng nhau\n",
    "unique_sequence = generate_unique_sequence()\n",
    "print(unique_sequence)"
   ]
  },
  {
   "cell_type": "code",
   "execution_count": 118,
   "metadata": {},
   "outputs": [
    {
     "name": "stdout",
     "output_type": "stream",
     "text": [
      "707138\n"
     ]
    }
   ],
   "source": [
    "import random\n",
    "\n",
    "previous_number = []\n",
    "\n",
    "\n",
    "def generate_unique_number():\n",
    "    global previous_number\n",
    "    while True:\n",
    "        # Tạo dãy số ngẫu nhiên gồm 6 chữ số\n",
    "        number = [random.randint(1, 9)] + random.sample(range(10), 5)\n",
    "\n",
    "        # Kiểm tra tính duy nhất của dãy số\n",
    "        if number != previous_number and number[0] != 0:\n",
    "            break\n",
    "\n",
    "    # Lưu dãy số hiện tại để sử dụng làm dãy trước đó cho lần tiếp theo\n",
    "    previous_number = number\n",
    "    number_string = ''.join(map(str, number))\n",
    "    result = int(number_string)\n",
    "    return result\n",
    "\n",
    "print(generate_unique_number())"
   ]
  }
 ],
 "metadata": {
  "kernelspec": {
   "display_name": "Python 3",
   "language": "python",
   "name": "python3"
  },
  "language_info": {
   "codemirror_mode": {
    "name": "ipython",
    "version": 3
   },
   "file_extension": ".py",
   "mimetype": "text/x-python",
   "name": "python",
   "nbconvert_exporter": "python",
   "pygments_lexer": "ipython3",
   "version": "3.9.13"
  }
 },
 "nbformat": 4,
 "nbformat_minor": 2
}
